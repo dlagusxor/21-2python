{
  "nbformat": 4,
  "nbformat_minor": 0,
  "metadata": {
    "colab": {
      "name": "20211020.ipynb",
      "provenance": [],
      "authorship_tag": "ABX9TyP6faOgAkbcEenlUyds6tJC",
      "include_colab_link": true
    },
    "kernelspec": {
      "name": "python3",
      "display_name": "Python 3"
    },
    "language_info": {
      "name": "python"
    }
  },
  "cells": [
    {
      "cell_type": "markdown",
      "metadata": {
        "id": "view-in-github",
        "colab_type": "text"
      },
      "source": [
        "<a href=\"https://colab.research.google.com/github/dlagusxor/21-2python/blob/main/20211020.ipynb\" target=\"_parent\"><img src=\"https://colab.research.google.com/assets/colab-badge.svg\" alt=\"Open In Colab\"/></a>"
      ]
    },
    {
      "cell_type": "markdown",
      "metadata": {
        "id": "wB6OwEn_8wBV"
      },
      "source": [
        "##**학습목표**\n",
        "1.함수의 이해\n",
        "2.함수 구현 및 사용 숙지\n",
        "- 표준함수(내장함수)\n",
        "- 사용자 정의 함스"
      ]
    },
    {
      "cell_type": "markdown",
      "metadata": {
        "id": "mZVn01jm9UPV"
      },
      "source": [
        "###**함수?**\n",
        "- 예를들어,range같은 함수가 있다.\n",
        "- range() #괄호안에 입력값을 주어서 수를 반환\n",
        "- ragne(3,9) -> [3,4,5,6,7,8]\n",
        "\n",
        "- 이미 구현된 함수: 내장함수(built-in function)"
      ]
    },
    {
      "cell_type": "markdown",
      "metadata": {
        "id": "2D0F48qtLPaR"
      },
      "source": [
        "##**수학 관련 내장함수**\n",
        "1. abs()\n",
        "2. 진수 변환\n",
        "- bin(): 10진수를 2진수로\n",
        "- oct(): 10진수를 8진수로\n",
        "- hex(): 10진수를 16진수로\n",
        "3. 연산\n",
        "- max(): 최대값\n",
        "- nin(): 최소값\n",
        "- sum(): 합계\n",
        "- pow(): 거듭제곱\n",
        "4. round(): 반올림"
      ]
    },
    {
      "cell_type": "code",
      "metadata": {
        "colab": {
          "base_uri": "https://localhost:8080/"
        },
        "id": "YarA2umx8sp2",
        "outputId": "1a85840b-6441-4bd7-dba5-e06f73c2aeda"
      },
      "source": [
        "print(-10,\"의 절대값: \",abs(-10))\n",
        "print(128,\"의 2진수: \",bin(128))\n",
        "print(17,\"의 8진수: \",oct(17))\n",
        "print(54274, \"의 16진수: \",hex(54274))"
      ],
      "execution_count": null,
      "outputs": [
        {
          "output_type": "stream",
          "name": "stdout",
          "text": [
            "-10 의 절대값:  10\n",
            "128 의 2진수:  0b10000000\n",
            "17 의 8진수:  0o21\n",
            "54274 의 16진수:  0xd402\n"
          ]
        }
      ]
    },
    {
      "cell_type": "code",
      "metadata": {
        "colab": {
          "base_uri": "https://localhost:8080/"
        },
        "id": "hh5Q1AubLfNw",
        "outputId": "de5310ed-ecd1-4d45-964b-642adb2b1f0d"
      },
      "source": [
        "numbers = [3,5,6,2,3]\n",
        "alpha = ['a','A','c','o','p']\n",
        "print(\"mex:\", max(numbers))\n",
        "print(\"min:\", min(numbers))\n",
        "print(\"max:\", max(alpha))\n",
        "print(\"sun:\", sum(numbers))\n",
        "#print(\"sun:\",sun(alpha))\n",
        "print(\"pow(3의 4승):\",pow(3,4))\n",
        "print(\"3.141592의 소수점 2의 자리 반올림:\",round(3.141592,2))"
      ],
      "execution_count": null,
      "outputs": [
        {
          "output_type": "stream",
          "name": "stdout",
          "text": [
            "mex: 6\n",
            "min: 2\n",
            "max: p\n",
            "sun: 19\n",
            "pow(3의 4승): 81\n",
            "3.141592의 소수점 2의 자리 반올림: 3.14\n"
          ]
        }
      ]
    },
    {
      "cell_type": "markdown",
      "metadata": {
        "id": "CpGn9LSeWS-M"
      },
      "source": [
        "###**문자열 관련 내장함수**\n",
        "- input(): ()안에 매개변수 값을 출력한 후에 입력을 받는 함수\n",
        "- format(): 일부 내용을 치환하여 의도한 형식의 문자열을 출력하는 함수"
      ]
    },
    {
      "cell_type": "code",
      "metadata": {
        "colab": {
          "base_uri": "https://localhost:8080/"
        },
        "id": "DY5AGBJXOYdD",
        "outputId": "74630936-f31a-46b3-914d-8572c3030330"
      },
      "source": [
        "id = input(\"아이디를 입력하세요:\" )\n",
        "password = input(\"비밀번호를 입력하세요:\" )\n",
        "\n",
        "print(\"{}님! 가입을 환영합니다!\",format(id))"
      ],
      "execution_count": null,
      "outputs": [
        {
          "output_type": "stream",
          "name": "stdout",
          "text": [
            "아이디를 입력하세요:ㅇㅇ\n",
            "비밀번호를 입력하세요:ㅇ\n",
            "{}님! 가입을 환영합니다! ㅇㅇ\n"
          ]
        }
      ]
    },
    {
      "cell_type": "code",
      "metadata": {
        "id": "BfeHiA3bXE0E",
        "colab": {
          "base_uri": "https://localhost:8080/"
        },
        "outputId": "243bf083-5f5d-4018-b92d-7dad9e4d4c91"
      },
      "source": [
        "#주사위 굴리는 프로그램 만들기\n",
        "\n",
        "import random\n",
        "\n",
        "#n = random.randint(1,6) #1에서 6까지의 정수 중에서 하나를 뽑는다\n",
        "#print(n)\n",
        "\n",
        "def game():\n",
        " n = random.randint(0,2)\n",
        " if n == 0:\n",
        "  print(\">컴퓨터:가위\")\n",
        " elif n == 1:\n",
        "   print(\">컴퓨터:바위\")\n",
        " else:\n",
        "   print(\">컴퓨터:보\")\n",
        " return n\n",
        "#가위바위보 게임\n",
        "com1 = game()\n",
        "#com2 = game()\n",
        "user = int(input(\"(0.가위,1.바위,2.보)중 하나의 숫자를 입력하세요: \"))\n",
        "\n",
        "if com == user:\n",
        "  print(\"DREW!\")\n",
        "elif com == 0 and user ==1:\n",
        "  print(\"WIN!\")\n",
        "elif com == 1 and user ==2:\n",
        "  print(\"WIN!\")\n",
        "elif com == 2 and user ==0:\n",
        "  print(\"WIN!\")\n",
        "else:\n",
        "  print(\"LOOSE!\")"
      ],
      "execution_count": 17,
      "outputs": [
        {
          "output_type": "stream",
          "name": "stdout",
          "text": [
            ">컴퓨터:가위\n",
            "(0.가위,1.바위,2.보)중 하나의 숫자를 입력하세요: 2\n",
            "DREW!\n"
          ]
        }
      ]
    },
    {
      "cell_type": "code",
      "metadata": {
        "id": "dA51FYvbvV83"
      },
      "source": [
        ""
      ],
      "execution_count": null,
      "outputs": []
    }
  ]
}