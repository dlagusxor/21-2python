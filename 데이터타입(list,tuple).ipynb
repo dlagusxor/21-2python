{
  "nbformat": 4,
  "nbformat_minor": 0,
  "metadata": {
    "colab": {
      "name": "데이터타입(list,tuple).ipynb",
      "provenance": [],
      "authorship_tag": "ABX9TyO2ZrO1BL+criHeehsBQJC8",
      "include_colab_link": true
    },
    "kernelspec": {
      "name": "python3",
      "display_name": "Python 3"
    },
    "language_info": {
      "name": "python"
    }
  },
  "cells": [
    {
      "cell_type": "markdown",
      "metadata": {
        "id": "view-in-github",
        "colab_type": "text"
      },
      "source": [
        "<a href=\"https://colab.research.google.com/github/dlagusxor/21-2python/blob/main/%EB%8D%B0%EC%9D%B4%ED%84%B0%ED%83%80%EC%9E%85(list%2Ctuple).ipynb\" target=\"_parent\"><img src=\"https://colab.research.google.com/assets/colab-badge.svg\" alt=\"Open In Colab\"/></a>"
      ]
    },
    {
      "cell_type": "markdown",
      "metadata": {
        "id": "fheTXyqvZCcp"
      },
      "source": [
        "## **학습목표**\n",
        "* 리스트(list)에 대해 이해하기\n",
        "* 튜플(tuple)에 대해 이해하기"
      ]
    },
    {
      "cell_type": "markdown",
      "metadata": {
        "id": "pK6JOlXgbMjA"
      },
      "source": [
        "### **리스트(list)와 튜플**\n",
        "* 여러 개의 값을 담을 수 있는 데이터 구조\n",
        "* list: 생성된 후에 변경이 가능\n",
        "* tuple: 생성된 후에 변경이 불가능"
      ]
    },
    {
      "cell_type": "code",
      "metadata": {
        "colab": {
          "base_uri": "https://localhost:8080/"
        },
        "id": "HQolKRghYTTI",
        "outputId": "a2b6d869-6107-4441-ee80-b8e14fcf1cb7"
      },
      "source": [
        "#[]:리스트, ():튜플, {}:딕셔너리\n",
        "a = [1,2,3,4,5]\n",
        "print(a)"
      ],
      "execution_count": null,
      "outputs": [
        {
          "output_type": "stream",
          "name": "stdout",
          "text": [
            "[1, 2, 3, 4, 5]\n"
          ]
        }
      ]
    },
    {
      "cell_type": "code",
      "metadata": {
        "colab": {
          "base_uri": "https://localhost:8080/"
        },
        "id": "lqilCqh-c1sO",
        "outputId": "0a6ee9f6-150e-4f82-c9e6-a88f7a95c12e"
      },
      "source": [
        "a = ['컴네', 'B', 1, '학년', [10,20]]\n",
        "print(a)"
      ],
      "execution_count": null,
      "outputs": [
        {
          "output_type": "stream",
          "name": "stdout",
          "text": [
            "['컴네', 'B', 1, '학년', [10, 20]]\n"
          ]
        }
      ]
    },
    {
      "cell_type": "code",
      "metadata": {
        "colab": {
          "base_uri": "https://localhost:8080/"
        },
        "id": "6tPuXNtKdNO3",
        "outputId": "70244085-76a6-4108-f220-f51e5b90e61a"
      },
      "source": [
        "a = \"Hello Comnet B!\"\n",
        "b = list(a) #list()함수로 리스트를 생성\n",
        "#리스트 함수는 다른타입(문자열 등)을 리스트로 변환할 때 사용\n",
        "\n",
        "print(b)\n",
        "print(len(b))\n",
        "\n",
        "c = a.split() #공백을 기준으로 리스트를 생성\n",
        "d = a.split('l') #()안의 구분자를 기준으로 리스트를 생성\n",
        "print(c)\n",
        "print(d)"
      ],
      "execution_count": null,
      "outputs": [
        {
          "output_type": "stream",
          "name": "stdout",
          "text": [
            "['H', 'e', 'l', 'l', 'o', ' ', 'C', 'o', 'm', 'n', 'e', 't', ' ', 'B', '!']\n",
            "15\n",
            "['Hello', 'Comnet', 'B!']\n",
            "['He', '', 'o Comnet B!']\n"
          ]
        }
      ]
    },
    {
      "cell_type": "markdown",
      "metadata": {
        "id": "QVWM0psOlAiV"
      },
      "source": [
        "### **리스트 인덱싱(indexong)**\n",
        "* [ ]연상자를 이용해서 항목을 가져온다\n",
        "* [ i ]:i번째 원소를 반환한다,\n",
        "* 만약,i가 음수면 마지막 원소에서 -1로 하여 가져온다"
      ]
    },
    {
      "cell_type": "code",
      "metadata": {
        "colab": {
          "base_uri": "https://localhost:8080/"
        },
        "id": "I6xbwxDNeACm",
        "outputId": "509cc053-59b9-4592-f4c1-667a5e1e33ee"
      },
      "source": [
        "a = [1,2,3,4,5,6,7,8,9,10]\n",
        "print(a[0], a[3], a[7], a[9])\n",
        "print(a[-1], a[-3], a[-10])\n",
        "#print(a[10], a[-11])"
      ],
      "execution_count": null,
      "outputs": [
        {
          "output_type": "stream",
          "name": "stdout",
          "text": [
            "1 4 8 10\n",
            "10 8 1\n"
          ]
        }
      ]
    },
    {
      "cell_type": "code",
      "metadata": {
        "colab": {
          "base_uri": "https://localhost:8080/"
        },
        "id": "vXnvBWBClg-V",
        "outputId": "c5733492-a508-4645-c407-e80700433dd1"
      },
      "source": [
        "# 리스트의 인덱스를 이용해 업데이트\n",
        "a = [1,2,3,4,5,6,7,8,9,10]\n",
        "a[0] = 100\n",
        "a[-1] = 0\n",
        "print(a)\n",
        "\n",
        "# 문자열을 인덱스를 사용해 업데이트\n",
        "a = \"hello comnet B!\"\n",
        "b = a.replace('l','w')\n",
        "print(b)\n",
        "c = 'j'+ a[1:]\n",
        "print(c)"
      ],
      "execution_count": null,
      "outputs": [
        {
          "output_type": "stream",
          "name": "stdout",
          "text": [
            "[100, 2, 3, 4, 5, 6, 7, 8, 9, 0]\n",
            "hewwo comnet B!\n",
            "jello comnet B!\n"
          ]
        }
      ]
    },
    {
      "cell_type": "markdown",
      "metadata": {
        "id": "xxnR-oGcofxV"
      },
      "source": [
        "### **리스트 slicing**\n",
        "* 리스트를 슬라이싱한 결과도 역시 리스트\n",
        "* 슬라이싱[시작:끝:증가값]"
      ]
    },
    {
      "cell_type": "code",
      "metadata": {
        "colab": {
          "base_uri": "https://localhost:8080/"
        },
        "id": "o4WACM_lm4ZL",
        "outputId": "97d35092-bbfc-4b3c-b87a-d812b592dbb7"
      },
      "source": [
        "a = [1,2,3,4,5,6,7,8,9,10]\n",
        "print(a[3:7])\n",
        "print(a[:7])\n",
        "print(a[3:])\n",
        "print(a[:])\n",
        "print(a[::2])\n",
        "print(a[1::2])"
      ],
      "execution_count": null,
      "outputs": [
        {
          "output_type": "stream",
          "name": "stdout",
          "text": [
            "[4, 5, 6, 7]\n",
            "[1, 2, 3, 4, 5, 6, 7]\n",
            "[4, 5, 6, 7, 8, 9, 10]\n",
            "[1, 2, 3, 4, 5, 6, 7, 8, 9, 10]\n",
            "[1, 3, 5, 7, 9]\n",
            "[2, 4, 6, 8, 10]\n"
          ]
        }
      ]
    },
    {
      "cell_type": "markdown",
      "metadata": {
        "id": "fQgkc8Vpq6uk"
      },
      "source": [
        "### **리스트 멤버 함수**\n",
        "* 생성된 리스트에 동작하는 함수\n",
        "* append() : 리스트 끝에다가 항목으로 추가\n",
        "* extend() : 리스트를 연장(+=)\n",
        "* insert() : 원하는 위치에 추가 가능(위치,아이템)"
      ]
    },
    {
      "cell_type": "code",
      "metadata": {
        "colab": {
          "base_uri": "https://localhost:8080/"
        },
        "id": "ZCp7BnHhp1D7",
        "outputId": "476cc593-c263-491b-bf25-a2a06a85b963"
      },
      "source": [
        "a = [1,2,3,4,5]\n",
        "a.append(10)\n",
        "print(a)"
      ],
      "execution_count": null,
      "outputs": [
        {
          "output_type": "stream",
          "name": "stdout",
          "text": [
            "[1, 2, 3, 4, 5, 10]\n"
          ]
        }
      ]
    },
    {
      "cell_type": "code",
      "metadata": {
        "colab": {
          "base_uri": "https://localhost:8080/"
        },
        "id": "5OxcvUf2rflL",
        "outputId": "797f29a0-cbb0-41e9-f401-a95d69e02e9e"
      },
      "source": [
        "b = [11,12,13]\n",
        "#a.extend(b)\n",
        "a += b #extend 동작\n",
        "print(a)"
      ],
      "execution_count": null,
      "outputs": [
        {
          "output_type": "stream",
          "name": "stdout",
          "text": [
            "[1, 2, 3, 4, 5, 10, 11, 12, 13]\n"
          ]
        }
      ]
    },
    {
      "cell_type": "code",
      "metadata": {
        "colab": {
          "base_uri": "https://localhost:8080/"
        },
        "id": "5otxvDN2r5XL",
        "outputId": "1bbf47fc-2bea-4488-c25d-a7d4f49eb6a9"
      },
      "source": [
        "a = [1,2,3,4,5]\n",
        "a.insert(1,6)\n",
        "print(a)"
      ],
      "execution_count": null,
      "outputs": [
        {
          "output_type": "stream",
          "name": "stdout",
          "text": [
            "[1, 6, 2, 3, 4, 5]\n"
          ]
        }
      ]
    },
    {
      "cell_type": "markdown",
      "metadata": {
        "id": "QkJ4efRCyjny"
      },
      "source": [
        "* remove() : 값으로 황목을 삭제\n",
        "* pop() : 지우고자 하는 인덱스의 아이템을 반환 후 삭제\n",
        "* index() : 찾고자하는 값을 인덱스 값을 반환\n",
        "\n"
      ]
    },
    {
      "cell_type": "code",
      "metadata": {
        "colab": {
          "base_uri": "https://localhost:8080/"
        },
        "id": "aEchTKmpstQs",
        "outputId": "e0d3af92-0faa-43d4-9121-c3acdc39032b"
      },
      "source": [
        "a = [10,20,30,40,.50]\n",
        "a.remove(10)\n",
        "print(a)"
      ],
      "execution_count": null,
      "outputs": [
        {
          "output_type": "stream",
          "name": "stdout",
          "text": [
            "[20, 30, 40, 0.5]\n"
          ]
        }
      ]
    },
    {
      "cell_type": "code",
      "metadata": {
        "colab": {
          "base_uri": "https://localhost:8080/"
        },
        "id": "U8KxNwCiy13g",
        "outputId": "3f45796f-9965-4f3a-981d-f8c5e83f6f09"
      },
      "source": [
        "a = [10,20,30,40,50]\n",
        "b = a.pop()\n",
        "print(b)\n",
        "print(a)"
      ],
      "execution_count": null,
      "outputs": [
        {
          "output_type": "stream",
          "name": "stdout",
          "text": [
            "50\n",
            "[10, 20, 30, 40]\n"
          ]
        }
      ]
    },
    {
      "cell_type": "code",
      "metadata": {
        "colab": {
          "base_uri": "https://localhost:8080/"
        },
        "id": "SYp5bGIFzWB5",
        "outputId": "53a6d265-f0c3-45ba-c610-397535a0629b"
      },
      "source": [
        "a = [10,20,30,40,50]\n",
        "print(a.index(40))\n",
        "\n",
        "b = \"Hello!\"\n",
        "print(b.index('e'))"
      ],
      "execution_count": null,
      "outputs": [
        {
          "output_type": "stream",
          "name": "stdout",
          "text": [
            "3\n",
            "1\n"
          ]
        }
      ]
    },
    {
      "cell_type": "markdown",
      "metadata": {
        "id": "Oye1Ct8V0Y-5"
      },
      "source": [
        "### **in 키워드**\n",
        "* 리스트에 해당 값이 존재하는지\n",
        "* True, False 중 한가지로 반환\n",
        "*  값 in [list]"
      ]
    },
    {
      "cell_type": "code",
      "metadata": {
        "colab": {
          "base_uri": "https://localhost:8080/"
        },
        "id": "pSWGxfOL0MDR",
        "outputId": "7c9f7897-1e8f-47e3-9ba9-4cd15b9c6e8b"
      },
      "source": [
        "a = [1,2,3,4,5,6,7,8]\n",
        "b = 5 \n",
        "c = 10\n",
        "print(b in a)\n",
        "print(c in a)"
      ],
      "execution_count": null,
      "outputs": [
        {
          "output_type": "stream",
          "name": "stdout",
          "text": [
            "True\n",
            "False\n"
          ]
        }
      ]
    },
    {
      "cell_type": "markdown",
      "metadata": {
        "id": "PxABEoV21yBA"
      },
      "source": [
        "### **list 정렬**\n",
        "* sort() : 리스트 자체를 내부적으로 정렬\n",
        "* sorted() : 정렬된 리스트의 복사본을 저장"
      ]
    },
    {
      "cell_type": "code",
      "metadata": {
        "colab": {
          "base_uri": "https://localhost:8080/"
        },
        "id": "VHHbiEpk07b5",
        "outputId": "1b88457d-9804-4961-b5e4-353f7133d0e9"
      },
      "source": [
        "a = [9, 34, 45, 232, 12, 1, 2, 8,5, 2,1, 3,4]\n",
        "b = sorted(a)\n",
        "print(b)\n",
        "print(a)\n",
        "#a.sort()\n",
        "#print(a)\n",
        "#a.sort(reverse=True)\n",
        "#print(a)"
      ],
      "execution_count": null,
      "outputs": [
        {
          "output_type": "stream",
          "name": "stdout",
          "text": [
            "[1, 1, 2, 2, 3, 4, 5, 8, 9, 12, 34, 45, 232]\n",
            "[9, 34, 45, 232, 12, 1, 2, 8, 5, 2, 1, 3, 4]\n"
          ]
        }
      ]
    },
    {
      "cell_type": "markdown",
      "metadata": {
        "id": "kOgz_8Js3IQI"
      },
      "source": [
        "### **튜플(Tuple)**\n",
        "* 리스트와 같이 여러개의 값을 갖는 데이터 컬렉션 타입\n",
        "* 생성된 후에 변경이 불가능"
      ]
    },
    {
      "cell_type": "code",
      "metadata": {
        "colab": {
          "base_uri": "https://localhost:8080/"
        },
        "id": "2d0BTjq_2YkQ",
        "outputId": "d66d4182-42c7-4b4a-cc91-1bbae37ec998"
      },
      "source": [
        "a = [1,2,3]\n",
        "b = (1,2,3)\n",
        "print(type(a))\n",
        "print(type(b))\n",
        "\n",
        "a[0] = 100\n",
        "print(a)\n",
        "#b[0] = 100"
      ],
      "execution_count": null,
      "outputs": [
        {
          "output_type": "stream",
          "name": "stdout",
          "text": [
            "<class 'list'>\n",
            "<class 'tuple'>\n",
            "[100, 2, 3]\n"
          ]
        }
      ]
    },
    {
      "cell_type": "code",
      "metadata": {
        "colab": {
          "base_uri": "https://localhost:8080/"
        },
        "id": "OyaBgO_y3tdW",
        "outputId": "02748fd1-f180-429a-aada-68945ca7e3b8"
      },
      "source": [
        "a,b,c,d = 10, 20, 30, 40\n",
        "print(a,b,c,d)"
      ],
      "execution_count": null,
      "outputs": [
        {
          "output_type": "stream",
          "name": "stdout",
          "text": [
            "10 20 30 40\n"
          ]
        }
      ]
    },
    {
      "cell_type": "code",
      "metadata": {
        "colab": {
          "base_uri": "https://localhost:8080/"
        },
        "id": "zUeEfnij4ISw",
        "outputId": "6f39270e-6fd7-48ab-8dbd-c9feb162083e"
      },
      "source": [
        "a = 5\n",
        "b = 4\n",
        "\n",
        "# 문제! a,b값을 교환하시오!\n",
        "#temp = a\n",
        "#b = a\n",
        "#a = temp\n",
        "a,b = b,a\n",
        "print(a)\n",
        "print(b)"
      ],
      "execution_count": null,
      "outputs": [
        {
          "output_type": "stream",
          "name": "stdout",
          "text": [
            "4\n",
            "5\n"
          ]
        }
      ]
    },
    {
      "cell_type": "code",
      "metadata": {
        "id": "GnumviJF5OY_"
      },
      "source": [
        ""
      ],
      "execution_count": null,
      "outputs": []
    }
  ]
}