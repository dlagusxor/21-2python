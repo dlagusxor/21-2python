{
  "nbformat": 4,
  "nbformat_minor": 0,
  "metadata": {
    "colab": {
      "name": "데이터타입(dict,set).ipynb",
      "provenance": [],
      "authorship_tag": "ABX9TyPk7gPfUEecPpBaBdQ2rXa4",
      "include_colab_link": true
    },
    "kernelspec": {
      "name": "python3",
      "display_name": "Python 3"
    },
    "language_info": {
      "name": "python"
    }
  },
  "cells": [
    {
      "cell_type": "markdown",
      "metadata": {
        "id": "view-in-github",
        "colab_type": "text"
      },
      "source": [
        "<a href=\"https://colab.research.google.com/github/dlagusxor/21-2python/blob/main/%EB%8D%B0%EC%9D%B4%ED%84%B0%ED%83%80%EC%9E%85(dict%2Cset).ipynb\" target=\"_parent\"><img src=\"https://colab.research.google.com/assets/colab-badge.svg\" alt=\"Open In Colab\"/></a>"
      ]
    },
    {
      "cell_type": "markdown",
      "metadata": {
        "id": "8LlVhoLNtk1I"
      },
      "source": [
        "### **학슴목표**\n",
        "dictionart,set에 대해 이해하기"
      ]
    },
    {
      "cell_type": "markdown",
      "metadata": {
        "id": "oiG4pu0nuJ--"
      },
      "source": [
        "**Dictionary**\n",
        "* 키와 값을 갖는 데이터 구조\n",
        "* 키는 내부적으로 hash값으로 저장\n",
        "* 순서를 따지지 않음."
      ]
    },
    {
      "cell_type": "code",
      "metadata": {
        "colab": {
          "base_uri": "https://localhost:8080/"
        },
        "id": "Z0S1WDhBtiEx",
        "outputId": "01b21322-d110-4241-eebb-d2b1fdb0fbe7"
      },
      "source": [
        "a = {'Korea':'Seoul',\n",
        "     'Canade':'Ottawa',\n",
        "     'USA':'Washington D.C'}\n",
        "b = {0:1, 1:6, 7:9, 8:10}\n",
        "\n",
        "print(a)\n",
        "print(a['Korea'])\n",
        "#print(a['Japan'])\n",
        "print(b[1])\n",
        "print(b[0])"
      ],
      "execution_count": 1,
      "outputs": [
        {
          "output_type": "stream",
          "name": "stdout",
          "text": [
            "{'Korea': 'Seoul', 'Canade': 'Ottawa', 'USA': 'Washington D.C'}\n",
            "Seoul\n",
            "6\n",
            "1\n"
          ]
        }
      ]
    },
    {
      "cell_type": "markdown",
      "metadata": {
        "id": "ub__ubPhwG_F"
      },
      "source": [
        "**항목 추가 및 변경**\n",
        "* 기존에 키가 존재하면, 새로운 값으로 업데이트\n",
        "* 기존에 키가 없다면,새로운 키값으로 생성"
      ]
    },
    {
      "cell_type": "code",
      "metadata": {
        "colab": {
          "base_uri": "https://localhost:8080/"
        },
        "id": "pK9wXIEEvujt",
        "outputId": "cccce2c2-27ff-41e9-e8bf-3b412e32906a"
      },
      "source": [
        "a['Japan'] = 'Tokyo'\n",
        "print(a)\n",
        "a['Japan'] = 'Osala'\n",
        "a['Ohina'] = 'Beijng'\n",
        "print(a)"
      ],
      "execution_count": 4,
      "outputs": [
        {
          "output_type": "stream",
          "name": "stdout",
          "text": [
            "{'Korea': 'Seoul', 'Canade': 'Ottawa', 'USA': 'Washington D.C', 'Japan': 'Tokyo', 'Ohina': 'Beijng'}\n",
            "{'Korea': 'Seoul', 'Canade': 'Ottawa', 'USA': 'Washington D.C', 'Japan': 'Osala', 'Ohina': 'Beijng'}\n"
          ]
        }
      ]
    },
    {
      "cell_type": "markdown",
      "metadata": {
        "id": "26Qw6wjzxCy2"
      },
      "source": [
        "* update()\n",
        " * 두 딕셔너리를 병함\n",
        " * 겹치는 키가 있다면,전달되는 값으로 업데이트된다."
      ]
    },
    {
      "cell_type": "code",
      "metadata": {
        "colab": {
          "base_uri": "https://localhost:8080/"
        },
        "id": "1x8YC4cvwms3",
        "outputId": "ac105284-c934-43d2-e805-3a3ede8fd6fa"
      },
      "source": [
        "a = {'a':'apple', 'b':'banana', 'c':'cae'}\n",
        "b = {'b':'bus', 'c':'caramel', 'd':'dynamite', 'e':'ehucation'}\n",
        "print(a)\n",
        "a.update(b) #a와 b명함\n",
        "print(a)"
      ],
      "execution_count": 7,
      "outputs": [
        {
          "output_type": "stream",
          "name": "stdout",
          "text": [
            "{'a': 'apple', 'b': 'banana', 'c': 'cae'}\n",
            "{'a': 'apple', 'b': 'bus', 'c': 'caramel', 'd': 'dynamite', 'e': 'ehucation'}\n"
          ]
        }
      ]
    },
    {
      "cell_type": "markdown",
      "metadata": {
        "id": "6OBbPJcQ5XH8"
      },
      "source": [
        "**key삭제**\n",
        "* del키워드\n",
        "* pop함수 이용"
      ]
    },
    {
      "cell_type": "code",
      "metadata": {
        "colab": {
          "base_uri": "https://localhost:8080/"
        },
        "id": "b3aJqAPFyJKQ",
        "outputId": "79c41760-8c15-4102-f993-13e8ecc011ae"
      },
      "source": [
        "a = {'a':1, 'b':2, 'c':3}\n",
        "print(a)\n",
        "\n",
        "del a['a']\n",
        "print(a)\n",
        "\n",
        "c = a.pop('b')\n",
        "print(c)"
      ],
      "execution_count": 9,
      "outputs": [
        {
          "output_type": "stream",
          "name": "stdout",
          "text": [
            "{'a': 1, 'b': 2, 'c': 3}\n",
            "{'b': 2, 'c': 3}\n",
            "2\n"
          ]
        }
      ]
    },
    {
      "cell_type": "markdown",
      "metadata": {
        "id": "RwSX1zY59W7C"
      },
      "source": [
        "**clear()**\n",
        "* 딕셔너리 값을 모두 초기화"
      ]
    },
    {
      "cell_type": "code",
      "metadata": {
        "colab": {
          "base_uri": "https://localhost:8080/"
        },
        "id": "Tgwfvwuw5rj0",
        "outputId": "2b59e4d5-eea0-4292-ffa0-010d0999823e"
      },
      "source": [
        "a = {'a':1, 'b':2, 'c':3}\n",
        "a['add'] = 4\n",
        "print(a)\n",
        "a.clear()\n",
        "print(a)"
      ],
      "execution_count": 11,
      "outputs": [
        {
          "output_type": "stream",
          "name": "stdout",
          "text": [
            "{'a': 1, 'b': 2, 'c': 3, 'add': 4}\n",
            "{}\n"
          ]
        }
      ]
    },
    {
      "cell_type": "markdown",
      "metadata": {
        "id": "ftGi3XpE9sFx"
      },
      "source": [
        "**in**\n",
        "* key값의 존재를 확인"
      ]
    },
    {
      "cell_type": "code",
      "metadata": {
        "colab": {
          "base_uri": "https://localhost:8080/"
        },
        "id": "7CNnCBTH9pCC",
        "outputId": "c54bdab4-0abf-440d-ada0-2d555161fb19"
      },
      "source": [
        "a = {'a':1, 'b':2, 'c':3}\n",
        "print(2 in a)\n",
        "print('a' in a)"
      ],
      "execution_count": 13,
      "outputs": [
        {
          "output_type": "stream",
          "name": "stdout",
          "text": [
            "False\n",
            "True\n"
          ]
        }
      ]
    },
    {
      "cell_type": "markdown",
      "metadata": {
        "id": "s56yFM0k-UOW"
      },
      "source": [
        "* dict[key]로 접근, 키가 존재하지 않을 경우 에러\n",
        "* .get()함수로 접근해서 키가 없는 경우에도 프로그램을 실행"
      ]
    },
    {
      "cell_type": "code",
      "metadata": {
        "colab": {
          "base_uri": "https://localhost:8080/"
        },
        "id": "IpRoPzjc9-Y5",
        "outputId": "55d680cb-e573-4f9b-9d5f-eb767860d8aa"
      },
      "source": [
        "a = {'a':1, 'b':2, 'c':3}\n",
        "print(a['a'])\n",
        "print(a.get('d'))"
      ],
      "execution_count": 15,
      "outputs": [
        {
          "output_type": "stream",
          "name": "stdout",
          "text": [
            "1\n",
            "None\n"
          ]
        }
      ]
    },
    {
      "cell_type": "markdown",
      "metadata": {
        "id": "EDuHp7a8_CkR"
      },
      "source": [
        "**모든 key와 값에 접근**\n",
        "\n",
        "* keys() : 키만 반환\n",
        "* values() : 값만 반환\n",
        "* items() : 키와 값의 튜플을 반환"
      ]
    },
    {
      "cell_type": "code",
      "metadata": {
        "colab": {
          "base_uri": "https://localhost:8080/"
        },
        "id": "VjySzwFB-tMw",
        "outputId": "1607cf8c-db0d-4280-fabf-79cd8a611bb5"
      },
      "source": [
        "a = {'a':1, 'b':2, 'c':3}\n",
        "print(a)\n",
        "print(a.keys())\n",
        "print(a.values())\n",
        "print(a.items())"
      ],
      "execution_count": 18,
      "outputs": [
        {
          "output_type": "stream",
          "name": "stdout",
          "text": [
            "{'a': 1, 'b': 2, 'c': 3}\n",
            "dict_keys(['a', 'b', 'c'])\n",
            "dict_values([1, 2, 3])\n",
            "dict_items([('a', 1), ('b', 2), ('c', 3)])\n"
          ]
        }
      ]
    },
    {
      "cell_type": "markdown",
      "metadata": {
        "id": "Cq2SNaP2GJ9m"
      },
      "source": [
        "### **Set**\n",
        "* dictionary에서 key만 활용한 데이터 구조\n",
        "* 중복이 허용되지 않는 구조"
      ]
    },
    {
      "cell_type": "code",
      "metadata": {
        "colab": {
          "base_uri": "https://localhost:8080/"
        },
        "id": "sTGPGQVX_UAK",
        "outputId": "a4ef19f6-657f-45cb-cd5f-73cec0fff319"
      },
      "source": [
        "a = {5,2,3,2,6,4,1,2,3,3}\n",
        "print(a)"
      ],
      "execution_count": 19,
      "outputs": [
        {
          "output_type": "stream",
          "name": "stdout",
          "text": [
            "{1, 2, 3, 4, 5, 6}\n"
          ]
        }
      ]
    },
    {
      "cell_type": "code",
      "metadata": {
        "colab": {
          "base_uri": "https://localhost:8080/"
        },
        "id": "b7DZmyYwGiHf",
        "outputId": "490b3c42-c57d-4d80-9788-55b20e81639b"
      },
      "source": [
        "#리스트를 Set으로 변경\n",
        "a = [5,2,3,2,6,4,1,2,3,3]\n",
        "print(a)\n",
        "\n",
        "b = set(a)\n",
        "print(b)"
      ],
      "execution_count": 21,
      "outputs": [
        {
          "output_type": "stream",
          "name": "stdout",
          "text": [
            "[5, 2, 3, 2, 6, 4, 1, 2, 3, 3]\n",
            "{1, 2, 3, 4, 5, 6}\n"
          ]
        }
      ]
    },
    {
      "cell_type": "code",
      "metadata": {
        "colab": {
          "base_uri": "https://localhost:8080/"
        },
        "id": "cePLufd2Gyue",
        "outputId": "cce77bf2-5010-4d3d-a9de-ae1c904bd305"
      },
      "source": [
        "a = {1,2,3}\n",
        "b = {2,3,4}\n",
        "\n",
        "c = a.union(b) #합짐합\n",
        "print(c)\n",
        "d = a.intersection(b)\n",
        "print(d)\n",
        "e = a.difference(b)\n",
        "print(e)"
      ],
      "execution_count": 23,
      "outputs": [
        {
          "output_type": "stream",
          "name": "stdout",
          "text": [
            "{1, 2, 3, 4}\n",
            "{2, 3}\n",
            "{1}\n"
          ]
        }
      ]
    },
    {
      "cell_type": "code",
      "metadata": {
        "id": "Mb7LMUisH9rN"
      },
      "source": [
        ""
      ],
      "execution_count": null,
      "outputs": []
    }
  ]
}