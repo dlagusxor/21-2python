{
  "nbformat": 4,
  "nbformat_minor": 0,
  "metadata": {
    "colab": {
      "name": "20211008중간고사.ipynb",
      "provenance": [],
      "authorship_tag": "ABX9TyOHikXmiXNSfLWM2YcgT4Nd",
      "include_colab_link": true
    },
    "kernelspec": {
      "name": "python3",
      "display_name": "Python 3"
    },
    "language_info": {
      "name": "python"
    }
  },
  "cells": [
    {
      "cell_type": "markdown",
      "metadata": {
        "id": "view-in-github",
        "colab_type": "text"
      },
      "source": [
        "<a href=\"https://colab.research.google.com/github/dlagusxor/21-2python/blob/main/20211008%EC%A4%91%EA%B0%84%EA%B3%A0%EC%82%AC.ipynb\" target=\"_parent\"><img src=\"https://colab.research.google.com/assets/colab-badge.svg\" alt=\"Open In Colab\"/></a>"
      ]
    },
    {
      "cell_type": "code",
      "metadata": {
        "id": "52qRko_Tr_HW"
      },
      "source": [
        "#1. 파이썬 변수로 사용할 수 없는것은?\n",
        "_num = 1\n",
        "num = 2\n",
        "num1 = 3\n",
        "#2num = 3\n",
        "#앞에 숫자는 올수 없다\n",
        "n_um = 3"
      ],
      "execution_count": 2,
      "outputs": []
    },
    {
      "cell_type": "code",
      "metadata": {
        "colab": {
          "base_uri": "https://localhost:8080/"
        },
        "id": "GdgQ61kKukv8",
        "outputId": "58b44860-f56f-4d01-e4e8-1fc94143fe69"
      },
      "source": [
        "#2. 각 변수에 저장된 최소 값은?\n",
        "sum = 0\n",
        "n1 = 10\n",
        "n1 = n1+10\n",
        "n2 = 20\n",
        "sum = n1+n2\n",
        "print(n1,n2,sum)"
      ],
      "execution_count": 3,
      "outputs": [
        {
          "output_type": "stream",
          "name": "stdout",
          "text": [
            "20 20 40\n"
          ]
        }
      ]
    },
    {
      "cell_type": "code",
      "metadata": {
        "colab": {
          "base_uri": "https://localhost:8080/"
        },
        "id": "NDKYzjzJvS-F",
        "outputId": "2ab27356-2279-47e4-cc22-b96ab3d01eb9"
      },
      "source": [
        "#3. 적절한 연산자 찾기\n",
        "print(17//4)\n",
        "print(17/4)\n",
        "print(17%4)"
      ],
      "execution_count": 5,
      "outputs": [
        {
          "output_type": "stream",
          "name": "stdout",
          "text": [
            "4\n",
            "4.25\n",
            "1\n"
          ]
        }
      ]
    },
    {
      "cell_type": "code",
      "metadata": {
        "colab": {
          "base_uri": "https://localhost:8080/"
        },
        "id": "UgZXK9nX0Q7c",
        "outputId": "5bc2df25-04db-419c-86ce-ee8c63919070"
      },
      "source": [
        "#4. 타입 찾기\n",
        "#age = 17\n",
        "age = 17.8\n",
        "print(type(type(age)))"
      ],
      "execution_count": 7,
      "outputs": [
        {
          "output_type": "stream",
          "name": "stdout",
          "text": [
            "<class 'type'>\n"
          ]
        }
      ]
    },
    {
      "cell_type": "code",
      "metadata": {
        "colab": {
          "base_uri": "https://localhost:8080/"
        },
        "id": "TM5ohJXf0xcd",
        "outputId": "7c910b53-ffcc-497a-c234-4de6ba2e91f6"
      },
      "source": [
        "#5. 문자열 인덱심\n",
        "s = 'Hello Hanyang!'\n",
        "print(s[5],s[-5])"
      ],
      "execution_count": 8,
      "outputs": [
        {
          "output_type": "stream",
          "name": "stdout",
          "text": [
            "  y\n"
          ]
        }
      ]
    },
    {
      "cell_type": "code",
      "metadata": {
        "colab": {
          "base_uri": "https://localhost:8080/"
        },
        "id": "CoNh4Mt21l1c",
        "outputId": "f6033155-ebae-4b55-9562-84af5789ba5c"
      },
      "source": [
        "#6. upper()함수와 문자열 슬라이싱\n",
        "s = 'helol Hanyang!'\n",
        "print(s)\n",
        "s = s.upper()\n",
        "print(s)\n",
        "print(s[:8])\n",
        "print(s[8:])\n",
        "print(s[1:10])"
      ],
      "execution_count": 9,
      "outputs": [
        {
          "output_type": "stream",
          "name": "stdout",
          "text": [
            "helol Hanyang!\n",
            "HELOL HANYANG!\n",
            "HELOL HA\n",
            "NYANG!\n",
            "ELOL HANY\n"
          ]
        }
      ]
    },
    {
      "cell_type": "code",
      "metadata": {
        "id": "XxR-r33k2Rtk"
      },
      "source": [
        "#7. 여러 데이터을 다루는 파이썬 자료함\n",
        "# 리스트,튜플,딕셔너리,셋"
      ],
      "execution_count": 10,
      "outputs": []
    },
    {
      "cell_type": "code",
      "metadata": {
        "colab": {
          "base_uri": "https://localhost:8080/"
        },
        "id": "iIPXEpFD3Iyy",
        "outputId": "68ccc80e-9a9c-43a4-9064-99a599baa11f"
      },
      "source": [
        "#8,9. 리스트\n",
        "a = ['a',1,'print',(1,2),'2',[1,2]]\n",
        "print(a[3])\n",
        "print(1 in a, 2 in a)"
      ],
      "execution_count": 12,
      "outputs": [
        {
          "output_type": "stream",
          "name": "stdout",
          "text": [
            "(1, 2)\n",
            "True False\n"
          ]
        }
      ]
    },
    {
      "cell_type": "code",
      "metadata": {
        "colab": {
          "base_uri": "https://localhost:8080/"
        },
        "id": "-4J9jfaI3p_M",
        "outputId": "b509e61b-57e1-4b94-85f0-8be84814c2a6"
      },
      "source": [
        "#10. 파이썬 코드\n",
        "nums = list(range(4))\n",
        "print(nums)\n",
        "nums.insert(3,100)\n",
        "print(nums)"
      ],
      "execution_count": 16,
      "outputs": [
        {
          "output_type": "stream",
          "name": "stdout",
          "text": [
            "[0, 1, 2, 3]\n",
            "[0, 1, 2, 100, 3]\n"
          ]
        }
      ]
    },
    {
      "cell_type": "code",
      "metadata": {
        "colab": {
          "base_uri": "https://localhost:8080/"
        },
        "id": "mgQjgMmR4lkM",
        "outputId": "92f54596-9a4e-4f71-f854-058d2956da66"
      },
      "source": [
        "#11. 변수의 최종값\n",
        "a = 100\n",
        "b = 200\n",
        "a, b = b, a\n",
        "print(a,b)"
      ],
      "execution_count": 18,
      "outputs": [
        {
          "output_type": "stream",
          "name": "stdout",
          "text": [
            "200 100\n"
          ]
        }
      ]
    },
    {
      "cell_type": "code",
      "metadata": {
        "colab": {
          "base_uri": "https://localhost:8080/"
        },
        "id": "xmryAYHw5UDt",
        "outputId": "c38222d5-61fc-4c03-ecc0-f7b4168ca790"
      },
      "source": [
        "#12. 딕셔너리\n",
        "a = {'han':1, 1:2, '1':3}\n",
        "a[1] = 'yang'\n",
        "print(a)"
      ],
      "execution_count": 19,
      "outputs": [
        {
          "output_type": "stream",
          "name": "stdout",
          "text": [
            "{'han': 1, 1: 'yang', '1': 3}\n"
          ]
        }
      ]
    },
    {
      "cell_type": "code",
      "metadata": {
        "colab": {
          "base_uri": "https://localhost:8080/"
        },
        "id": "tjYnOBbX6QeN",
        "outputId": "64e191a0-bcde-4bd1-d792-1f31c8f29920"
      },
      "source": [
        "#13. 셋\n",
        "b = set([1,1,1,1,1,1,1,1,1,1,2,3])\n",
        "print(b)\n",
        "b = set('hello')\n",
        "print(b)"
      ],
      "execution_count": 23,
      "outputs": [
        {
          "output_type": "stream",
          "name": "stdout",
          "text": [
            "{1, 2, 3}\n",
            "{'h', 'l', 'e', 'o'}\n"
          ]
        }
      ]
    },
    {
      "cell_type": "code",
      "metadata": {
        "colab": {
          "base_uri": "https://localhost:8080/"
        },
        "id": "FUUlKNUF6p3s",
        "outputId": "23122cbb-e095-43f3-aa5c-17fb847c186f"
      },
      "source": [
        "#14-15\n",
        "room = [[0,0,1,0,9], [1,0,1,0,1], [0,1,1,1,9]]\n",
        "\n",
        "mouse = room[0][2]\n",
        "\n",
        "if mouse ==1:\n",
        "  print(\"cheese\")\n",
        "elif mouse ==9:\n",
        "  print(\"trap\")\n",
        "else:\n",
        "  print(\"nothing\")"
      ],
      "execution_count": 26,
      "outputs": [
        {
          "output_type": "stream",
          "name": "stdout",
          "text": [
            "cheese\n"
          ]
        }
      ]
    },
    {
      "cell_type": "code",
      "metadata": {
        "colab": {
          "base_uri": "https://localhost:8080/"
        },
        "id": "6b3IVi1mCsmD",
        "outputId": "e180ab07-3ac3-430c-fed6-9294dc8b87a5"
      },
      "source": [
        "#16-17\n",
        "\n",
        "a = 0\n",
        "b = 0\n",
        "\n",
        "for i in range(3,9):\n",
        "  if i%2 == 0 and i%3 ==0:\n",
        "    continue\n",
        "  elif i%2==0:\n",
        "    a +=1\n",
        "  elif i%3 ==0:\n",
        "    b +=1\n",
        "\n",
        "print(a,b)"
      ],
      "execution_count": 27,
      "outputs": [
        {
          "output_type": "stream",
          "name": "stdout",
          "text": [
            "2 1\n"
          ]
        }
      ]
    },
    {
      "cell_type": "code",
      "metadata": {
        "colab": {
          "base_uri": "https://localhost:8080/"
        },
        "id": "yQloB3onEpBl",
        "outputId": "605585df-7da8-483d-9bf1-52dc6f3a0115"
      },
      "source": [
        "#18-20\n",
        "print('메뉴번호 1.쿠키(300원) 2.짬뽕(500원) 3.치킨(700원)')\n",
        "\n",
        "money = int(input('투입금액: '))\n",
        "menu = int(input('메뉴번호: '))\n",
        "\n",
        "if menu == 1:\n",
        "  money -= 300\n",
        "elif menu == 2:\n",
        "  money -= 500\n",
        "elif menu == 3:\n",
        "  money -= 700\n",
        "\n",
        "\n",
        "if money < 0:\n",
        "  print(\"금액이 부족합니다\")\n",
        "else:\n",
        "  won1000 = money//1000\n",
        "  won500 = (money%1000)//500\n",
        "  won100 = ((money%1000)%500)//100\n",
        "  print('거스름돈: 1000원 {}개, 500원 {}개, 100원{}개'.format(won1000, won500, won100))"
      ],
      "execution_count": 33,
      "outputs": [
        {
          "output_type": "stream",
          "name": "stdout",
          "text": [
            "메뉴번호 1.쿠키(300원) 2.짬뽕(500원) 3.치킨(700원)\n",
            "투입금액: 99999999999999999999999999999999999999999999999999999\n",
            "메뉴번호: 1\n",
            "거스름돈: 1000원 99999999999999999999999999999999999999999999999999개, 500원 1개, 100원1개\n"
          ]
        }
      ]
    },
    {
      "cell_type": "code",
      "metadata": {
        "id": "sTOjWbPwGkx8"
      },
      "source": [
        ""
      ],
      "execution_count": null,
      "outputs": []
    }
  ]
}