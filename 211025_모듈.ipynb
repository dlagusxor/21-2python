{
  "nbformat": 4,
  "nbformat_minor": 0,
  "metadata": {
    "colab": {
      "name": "211025_모듈.ipynb",
      "provenance": [],
      "authorship_tag": "ABX9TyMhbZRiZgj+kzN+VgM0Eviy",
      "include_colab_link": true
    },
    "kernelspec": {
      "name": "python3",
      "display_name": "Python 3"
    },
    "language_info": {
      "name": "python"
    }
  },
  "cells": [
    {
      "cell_type": "markdown",
      "metadata": {
        "id": "view-in-github",
        "colab_type": "text"
      },
      "source": [
        "<a href=\"https://colab.research.google.com/github/dlagusxor/21-2python/blob/main/211025_%EB%AA%A8%EB%93%88.ipynb\" target=\"_parent\"><img src=\"https://colab.research.google.com/assets/colab-badge.svg\" alt=\"Open In Colab\"/></a>"
      ]
    },
    {
      "cell_type": "markdown",
      "metadata": {
        "id": "wbwNF8Dp8b52"
      },
      "source": [
        "###**학습목표**\n",
        "1. 모듈의 이해 및 모듈을 import하기"
      ]
    },
    {
      "cell_type": "markdown",
      "metadata": {
        "id": "I2lPfqhQ87VO"
      },
      "source": [
        "###**모듈**\n",
        "- 다양한 기능들이 미리 함수로 구현되어 모듈형태로 제공\n"
      ]
    },
    {
      "cell_type": "code",
      "metadata": {
        "colab": {
          "base_uri": "https://localhost:8080/"
        },
        "id": "nHd4GjXi7HVP",
        "outputId": "0f8d613a-eac8-40ee-bffc-08224a022e88"
      },
      "source": [
        "import math\n",
        "pipi = math.pi\n",
        "fact = math.factorial(5)\n",
        "root = math.sqrt(25)\n",
        "print(pipi)\n",
        "print(fact)\n",
        "print(root)"
      ],
      "execution_count": 6,
      "outputs": [
        {
          "output_type": "stream",
          "name": "stdout",
          "text": [
            "3.141592653589793\n",
            "120\n",
            "5.0\n"
          ]
        }
      ]
    },
    {
      "cell_type": "code",
      "metadata": {
        "colab": {
          "base_uri": "https://localhost:8080/"
        },
        "id": "9iwyzZKY9U5F",
        "outputId": "73148ba6-d52c-4bb3-dc33-8c3d90a0e843"
      },
      "source": [
        "import random\n",
        "\n",
        "print(\"주사위값: \",random.randint(1,6))\n",
        "print(\"주사위값: \",random.randrange(7))\n",
        "\n",
        "rps = [\"가위\",\"바위\",\"보\"]\n",
        "print(\"가위바위보:\",random.choices(rps))\n",
        "\n",
        "order = [1,2,3,4,5,6,7,8,9]\n",
        "print(random.shuffle(order))"
      ],
      "execution_count": 12,
      "outputs": [
        {
          "output_type": "stream",
          "name": "stdout",
          "text": [
            "주사위값:  4\n",
            "주사위값:  3\n",
            "가위바위보: ['바위']\n",
            "None\n"
          ]
        }
      ]
    },
    {
      "cell_type": "code",
      "metadata": {
        "colab": {
          "base_uri": "https://localhost:8080/"
        },
        "id": "ke9cCfzNHH12",
        "outputId": "8c8ae70c-732f-4480-f89f-5dafc835946f"
      },
      "source": [
        "from datetime import datetime\n",
        "today = datetime.now()\n",
        "print('today: ',datetime.now())\n",
        "print('{}연,{}월,{}일'.format(today.year, today.month, today.day))\n",
        "print('{}시,{}분,{}초'.format(today.hour, today.minute, today.second))\n",
        "print(\"요일: \",today.weekday())\n",
        "k_sat = datetime(2023,11,9,0,0,0)\n",
        "xmas = datetime(2021,12,25,0,0,0)\n",
        "print('xmas: ',xmas)\n",
        "print('고백까지 남은 디데이: ',today - xmas)\n",
        "print('수능까지 남은 디데이: ',today - k_sat)"
      ],
      "execution_count": 18,
      "outputs": [
        {
          "output_type": "stream",
          "name": "stdout",
          "text": [
            "today:  2021-10-25 02:06:09.692614\n",
            "2021연,10월,25일\n",
            "2시,6분,9초\n",
            "요일:  0\n",
            "xmas:  2021-12-25 00:00:00\n",
            "고백까지 남은 디데이:  -61 days, 2:06:09.692586\n",
            "수능까지 남은 디데이:  -745 days, 2:06:09.692586\n"
          ]
        }
      ]
    },
    {
      "cell_type": "code",
      "metadata": {
        "id": "0sdtFlhtKUL3"
      },
      "source": [
        ""
      ],
      "execution_count": null,
      "outputs": []
    }
  ]
}