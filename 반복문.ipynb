{
  "nbformat": 4,
  "nbformat_minor": 0,
  "metadata": {
    "colab": {
      "name": "반복문.ipynb",
      "provenance": [],
      "authorship_tag": "ABX9TyNHQorHVcrYMduRDyXx4rkz",
      "include_colab_link": true
    },
    "kernelspec": {
      "name": "python3",
      "display_name": "Python 3"
    },
    "language_info": {
      "name": "python"
    }
  },
  "cells": [
    {
      "cell_type": "markdown",
      "metadata": {
        "id": "view-in-github",
        "colab_type": "text"
      },
      "source": [
        "<a href=\"https://colab.research.google.com/github/dlagusxor/21-2python/blob/main/%EB%B0%98%EB%B3%B5%EB%AC%B8.ipynb\" target=\"_parent\"><img src=\"https://colab.research.google.com/assets/colab-badge.svg\" alt=\"Open In Colab\"/></a>"
      ]
    },
    {
      "cell_type": "markdown",
      "metadata": {
        "id": "LebLqDpOqmXT"
      },
      "source": [
        "## **학습목표**\n",
        "\n",
        "* 반복문의 이해 및 활용\n",
        "* range() 함수를 이해\n"
      ]
    },
    {
      "cell_type": "markdown",
      "metadata": {
        "id": "EFHt2dQOq1UZ"
      },
      "source": [
        "### **for반복문**\n",
        "* 리스트,문자열 등을 순회하면서 값을 처리할 떄 사용\n",
        "* i는 매번 문장을 수행할 떄마다 a 리스트  안의 값으로 순차적으로 변경된다\n",
        "* 모든 a 안의 값이 수행되면  for문의 블록은 종료된다"
      ]
    },
    {
      "cell_type": "code",
      "metadata": {
        "colab": {
          "base_uri": "https://localhost:8080/"
        },
        "id": "uIvlEAyBrIu5",
        "outputId": "300be79c-a0ad-4ea0-e42f-9fcd284a3191"
      },
      "source": [
        "a = [1,2,3,4,5] # 리스트\n",
        "\n",
        "for i in a :\n",
        "  print(i)"
      ],
      "execution_count": null,
      "outputs": [
        {
          "output_type": "stream",
          "name": "stdout",
          "text": [
            "1\n",
            "2\n",
            "3\n",
            "4\n",
            "5\n"
          ]
        }
      ]
    },
    {
      "cell_type": "code",
      "metadata": {
        "id": "XLszRaLOrSjh",
        "colab": {
          "base_uri": "https://localhost:8080/"
        },
        "outputId": "4d93751a-8a1d-45d4-f5c8-2cf51e92a74d"
      },
      "source": [
        "#문자열의 아이템 출력하기\n",
        " \n",
        "for x in 'hello world B!' :\n",
        "   print(x)"
      ],
      "execution_count": null,
      "outputs": [
        {
          "output_type": "stream",
          "name": "stdout",
          "text": [
            "h\n",
            "e\n",
            "l\n",
            "l\n",
            "o\n",
            " \n",
            "w\n",
            "o\n",
            "r\n",
            "l\n",
            "d\n",
            " \n",
            "B\n",
            "!\n"
          ]
        }
      ]
    },
    {
      "cell_type": "code",
      "metadata": {
        "colab": {
          "base_uri": "https://localhost:8080/"
        },
        "id": "f9FcDzGu1gBe",
        "outputId": "cc4dc71f-5520-4381-d4f2-35feafa5d127"
      },
      "source": [
        "# a 리스트 안의 수가 짝수면 그 수를 2로 나누고\n",
        "# 홀수일 경우 2를 곱한 수를 출력하시오.\n",
        "\n",
        "a = [1,10,6,29,18,7] # 짝수와 홀수의 리스트\n",
        "\n",
        "for i in a :\n",
        "  if i % 2 == 0 : # 짝수\n",
        "      print(i//2)\n",
        "  else :\n",
        "      print(i*2)"
      ],
      "execution_count": null,
      "outputs": [
        {
          "output_type": "stream",
          "name": "stdout",
          "text": [
            "2\n",
            "5\n",
            "3\n",
            "58\n",
            "9\n",
            "14\n"
          ]
        }
      ]
    },
    {
      "cell_type": "markdown",
      "metadata": {
        "id": "qq57aHfv2sp8"
      },
      "source": [
        "#### **break**\n",
        "* 특정 조건을 만족할 때 for을 빠져나오기 위해 사용"
      ]
    },
    {
      "cell_type": "code",
      "metadata": {
        "colab": {
          "base_uri": "https://localhost:8080/"
        },
        "id": "WEKm97Kr3INN",
        "outputId": "1b69eff5-b57d-4aa0-da06-c49e560d6285"
      },
      "source": [
        "# 두 정수 A와 B를 입력받은 다음, A+B를 출력하는 프로그램을 작성하시오.\n",
        "# 첫째 줄에 테스트 케이스의 개수 T가 주어진다.\n",
        "# 각 테스트 케이스는 한 줄로 이루어져 있으며, 각 줄에 A와 B가 주어진다. (0 < A, B < 10)\n",
        "\n",
        "t = int(input())\n",
        "\n",
        "for i in range(t):\n",
        "  a, b = input().split()\n",
        "  a = int(a)\n",
        "  b = int(b)\n",
        "  print(a+b)"
      ],
      "execution_count": null,
      "outputs": [
        {
          "output_type": "stream",
          "name": "stdout",
          "text": [
            "5\n",
            "1 1\n",
            "2\n",
            "2 3\n",
            "5\n",
            "3 4\n",
            "7\n",
            "9 8\n",
            "17\n",
            "5 2\n",
            "7\n"
          ]
        }
      ]
    },
    {
      "cell_type": "code",
      "metadata": {
        "colab": {
          "base_uri": "https://localhost:8080/"
        },
        "id": "LWjzxm9y23OU",
        "outputId": "731f50e6-1321-475f-b8ae-c35874bdcb64"
      },
      "source": [
        "a = [1,10,6,29,18,7]\n",
        "\n",
        "for i in a :\n",
        "  if i > 20:\n",
        "    print(i)\n",
        "    break"
      ],
      "execution_count": null,
      "outputs": [
        {
          "output_type": "stream",
          "name": "stdout",
          "text": [
            "29\n"
          ]
        }
      ]
    },
    {
      "cell_type": "markdown",
      "metadata": {
        "id": "0eOO1AhLEoI6"
      },
      "source": [
        "### **range 함수**\n",
        "* 리스트 혹은 튜플을 쉽게 만들 수 있는 내장 함수\n",
        "* 주어진 값에 따라 다양한 결과를 반환\n",
        "\n",
        "```pyton\n",
        "range(10)       ->[0,1,2,3,4,5,6,7,8,9]\n",
        "range(2,10)     ->[2,3,4,5,6,7,8,9]\n",
        "range(2,10,3)   ->[2,5,8]\n",
        "```"
      ]
    },
    {
      "cell_type": "code",
      "metadata": {
        "colab": {
          "base_uri": "https://localhost:8080/"
        },
        "id": "nCzecJVEFbi3",
        "outputId": "7aa574a5-e689-4475-d238-dd4f49393e05"
      },
      "source": [
        "print(list(range(10)))\n",
        "print(list(range(2,10)))\n",
        "print(list(range(2,10,3)))"
      ],
      "execution_count": null,
      "outputs": [
        {
          "output_type": "stream",
          "name": "stdout",
          "text": [
            "[0, 1, 2, 3, 4, 5, 6, 7, 8, 9]\n",
            "[2, 3, 4, 5, 6, 7, 8, 9]\n",
            "[2, 5, 8]\n"
          ]
        }
      ]
    },
    {
      "cell_type": "markdown",
      "metadata": {
        "id": "IGJHMjvkF6qC"
      },
      "source": [
        "### **구구단 출력하기**\n",
        "* 2단부터 9단까지\n",
        "* 각 단은 1부터 9까지 곱하도록\n",
        "\n",
        "> [2단]\n",
        "> - 2 * 1 = 2\n",
        "> - 2 * 2 = 4\n",
        "> ....\n",
        "> - 2 * 9 = 18\n",
        "> - 총 9단까지 출력 "
      ]
    },
    {
      "cell_type": "code",
      "metadata": {
        "colab": {
          "base_uri": "https://localhost:8080/"
        },
        "id": "KEHKBAzrHRyL",
        "outputId": "7188a12b-33eb-4f91-f444-b8151152c21d"
      },
      "source": [
        "print(\"구구단 출력하기\\n\")\n",
        "for j in range(2,10):\n",
        "  print(\"[\",j,\"단]\")\n",
        "  for i in range(1,10):\n",
        "   print(j, '*',i, '=', j*i)\n",
        "  print()"
      ],
      "execution_count": null,
      "outputs": [
        {
          "output_type": "stream",
          "name": "stdout",
          "text": [
            "구구단 출력하기\n",
            "\n",
            "[ 2 단]\n",
            "2 * 1 = 2\n",
            "2 * 2 = 4\n",
            "2 * 3 = 6\n",
            "2 * 4 = 8\n",
            "2 * 5 = 10\n",
            "2 * 6 = 12\n",
            "2 * 7 = 14\n",
            "2 * 8 = 16\n",
            "2 * 9 = 18\n",
            "\n",
            "[ 3 단]\n",
            "3 * 1 = 3\n",
            "3 * 2 = 6\n",
            "3 * 3 = 9\n",
            "3 * 4 = 12\n",
            "3 * 5 = 15\n",
            "3 * 6 = 18\n",
            "3 * 7 = 21\n",
            "3 * 8 = 24\n",
            "3 * 9 = 27\n",
            "\n",
            "[ 4 단]\n",
            "4 * 1 = 4\n",
            "4 * 2 = 8\n",
            "4 * 3 = 12\n",
            "4 * 4 = 16\n",
            "4 * 5 = 20\n",
            "4 * 6 = 24\n",
            "4 * 7 = 28\n",
            "4 * 8 = 32\n",
            "4 * 9 = 36\n",
            "\n",
            "[ 5 단]\n",
            "5 * 1 = 5\n",
            "5 * 2 = 10\n",
            "5 * 3 = 15\n",
            "5 * 4 = 20\n",
            "5 * 5 = 25\n",
            "5 * 6 = 30\n",
            "5 * 7 = 35\n",
            "5 * 8 = 40\n",
            "5 * 9 = 45\n",
            "\n",
            "[ 6 단]\n",
            "6 * 1 = 6\n",
            "6 * 2 = 12\n",
            "6 * 3 = 18\n",
            "6 * 4 = 24\n",
            "6 * 5 = 30\n",
            "6 * 6 = 36\n",
            "6 * 7 = 42\n",
            "6 * 8 = 48\n",
            "6 * 9 = 54\n",
            "\n",
            "[ 7 단]\n",
            "7 * 1 = 7\n",
            "7 * 2 = 14\n",
            "7 * 3 = 21\n",
            "7 * 4 = 28\n",
            "7 * 5 = 35\n",
            "7 * 6 = 42\n",
            "7 * 7 = 49\n",
            "7 * 8 = 56\n",
            "7 * 9 = 63\n",
            "\n",
            "[ 8 단]\n",
            "8 * 1 = 8\n",
            "8 * 2 = 16\n",
            "8 * 3 = 24\n",
            "8 * 4 = 32\n",
            "8 * 5 = 40\n",
            "8 * 6 = 48\n",
            "8 * 7 = 56\n",
            "8 * 8 = 64\n",
            "8 * 9 = 72\n",
            "\n",
            "[ 9 단]\n",
            "9 * 1 = 9\n",
            "9 * 2 = 18\n",
            "9 * 3 = 27\n",
            "9 * 4 = 36\n",
            "9 * 5 = 45\n",
            "9 * 6 = 54\n",
            "9 * 7 = 63\n",
            "9 * 8 = 72\n",
            "9 * 9 = 81\n",
            "\n"
          ]
        }
      ]
    },
    {
      "cell_type": "code",
      "metadata": {
        "id": "o15kvl2jHVNh"
      },
      "source": [
        ""
      ],
      "execution_count": null,
      "outputs": []
    }
  ]
}