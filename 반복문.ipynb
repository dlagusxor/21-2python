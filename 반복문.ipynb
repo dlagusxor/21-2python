{
  "nbformat": 4,
  "nbformat_minor": 0,
  "metadata": {
    "colab": {
      "name": "반복문.ipynb",
      "provenance": [],
      "authorship_tag": "ABX9TyPtsgR05Il8xmPV5R3k0obJ",
      "include_colab_link": true
    },
    "kernelspec": {
      "name": "python3",
      "display_name": "Python 3"
    },
    "language_info": {
      "name": "python"
    }
  },
  "cells": [
    {
      "cell_type": "markdown",
      "metadata": {
        "id": "view-in-github",
        "colab_type": "text"
      },
      "source": [
        "<a href=\"https://colab.research.google.com/github/dlagusxor/21-2python/blob/main/%EB%B0%98%EB%B3%B5%EB%AC%B8.ipynb\" target=\"_parent\"><img src=\"https://colab.research.google.com/assets/colab-badge.svg\" alt=\"Open In Colab\"/></a>"
      ]
    },
    {
      "cell_type": "markdown",
      "metadata": {
        "id": "1cXjLzWj3tsK"
      },
      "source": [
        "## **학습목표**\n",
        "\n",
        "* 반복문의 이해 및 활용(for)\n",
        "* range 함수 이해"
      ]
    },
    {
      "cell_type": "code",
      "metadata": {
        "id": "mOtorSQU3-GV"
      },
      "source": [
        ""
      ],
      "execution_count": null,
      "outputs": []
    },
    {
      "cell_type": "markdown",
      "metadata": {
        "id": "JNKazsW-4OtH"
      },
      "source": [
        "## **for 반복문**\n",
        "* 리스트,문자열 등 순회 가능한 것들의 값을 처리할 떄 사용\n"
      ]
    },
    {
      "cell_type": "code",
      "metadata": {
        "colab": {
          "base_uri": "https://localhost:8080/"
        },
        "id": "4MhMuW8C4o2n",
        "outputId": "0316e73c-4bd6-47ee-db98-adabba210a30"
      },
      "source": [
        "a = [1,2,3,4,5]\n",
        "\n",
        "for i in a:\n",
        "  print(i, i*2)\n",
        "print('i 처;정값: ', i)\n"
      ],
      "execution_count": 4,
      "outputs": [
        {
          "output_type": "stream",
          "name": "stdout",
          "text": [
            "1 2\n",
            "2 4\n",
            "3 6\n",
            "4 8\n",
            "5 10\n",
            "i 처;정값:  5\n"
          ]
        }
      ]
    },
    {
      "cell_type": "code",
      "metadata": {
        "colab": {
          "base_uri": "https://localhost:8080/"
        },
        "id": "AfuirLDx5VfL",
        "outputId": "d559cf05-4048-426a-b925-a6e8e979d902"
      },
      "source": [
        "#문자열의 아이템 출력하기\n",
        " \n",
        "for x in 'hello world' :\n",
        "   print(x)"
      ],
      "execution_count": 9,
      "outputs": [
        {
          "output_type": "stream",
          "name": "stdout",
          "text": [
            "h\n",
            "e\n",
            "l\n",
            "l\n",
            "o\n",
            " \n",
            "w\n",
            "o\n",
            "r\n",
            "l\n",
            "d\n"
          ]
        }
      ]
    },
    {
      "cell_type": "code",
      "metadata": {
        "colab": {
          "base_uri": "https://localhost:8080/"
        },
        "id": "q6N2fioq_SH_",
        "outputId": "1c857de3-1806-46a1-9052-480773984f6c"
      },
      "source": [
        "a = [1,10,7,29,18]\n",
        "\n",
        "for i in a :\n",
        "  if i % 2 == 0 :  #짝수\n",
        "      print(i//2)\n",
        "  else :\n",
        "      print(i*2)"
      ],
      "execution_count": 16,
      "outputs": [
        {
          "output_type": "stream",
          "name": "stdout",
          "text": [
            "2\n",
            "5\n",
            "14\n",
            "58\n",
            "9\n"
          ]
        }
      ]
    },
    {
      "cell_type": "markdown",
      "metadata": {
        "id": "jZcCGT2AA1lK"
      },
      "source": [
        "### **break**\n",
        "* 특정 조건을 만족할 때 for을 빠져나오기 위해 사용"
      ]
    },
    {
      "cell_type": "code",
      "metadata": {
        "colab": {
          "base_uri": "https://localhost:8080/"
        },
        "id": "eAVKr-5gBA9X",
        "outputId": "9d300d2b-9f05-46ed-d042-9eac4634af15"
      },
      "source": [
        "# a = [1,10,7,29,18]\n",
        "\n",
        "for i in a :\n",
        "  if i > 20 :\n",
        "    break\n",
        "\n",
        "print(i)"
      ],
      "execution_count": 18,
      "outputs": [
        {
          "output_type": "stream",
          "name": "stdout",
          "text": [
            "29\n"
          ]
        }
      ]
    },
    {
      "cell_type": "markdown",
      "metadata": {
        "id": "KexSZuHaBxoT"
      },
      "source": [
        "## **continue**\n",
        "* 해당 아이템을 건너 뛰고 싶을 때 사용\n"
      ]
    },
    {
      "cell_type": "code",
      "metadata": {
        "colab": {
          "base_uri": "https://localhost:8080/"
        },
        "id": "cuqOUvqWB9wX",
        "outputId": "39386354-391c-45b1-cf4f-b9fdd93c7c4a"
      },
      "source": [
        "a = [3,9,7,29,18]\n",
        "\n",
        "for i in a :\n",
        "  if i >5 and i < 20 :\n",
        "     continue\n",
        "\n",
        "  print(i) "
      ],
      "execution_count": 21,
      "outputs": [
        {
          "output_type": "stream",
          "name": "stdout",
          "text": [
            "3\n",
            "29\n"
          ]
        }
      ]
    },
    {
      "cell_type": "code",
      "metadata": {
        "id": "HLe2erUGCSBA"
      },
      "source": [
        ""
      ],
      "execution_count": null,
      "outputs": []
    }
  ]
}