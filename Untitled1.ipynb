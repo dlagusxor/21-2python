{
  "nbformat": 4,
  "nbformat_minor": 0,
  "metadata": {
    "colab": {
      "name": "Untitled1.ipynb",
      "provenance": [],
      "authorship_tag": "ABX9TyOjc0UmSkUFSk+qQMOos8Rc",
      "include_colab_link": true
    },
    "kernelspec": {
      "name": "python3",
      "display_name": "Python 3"
    },
    "language_info": {
      "name": "python"
    }
  },
  "cells": [
    {
      "cell_type": "markdown",
      "metadata": {
        "id": "view-in-github",
        "colab_type": "text"
      },
      "source": [
        "<a href=\"https://colab.research.google.com/github/dlagusxor/21-2python/blob/main/Untitled1.ipynb\" target=\"_parent\"><img src=\"https://colab.research.google.com/assets/colab-badge.svg\" alt=\"Open In Colab\"/></a>"
      ]
    },
    {
      "cell_type": "code",
      "metadata": {
        "id": "AevN1UyLTLy_"
      },
      "source": [
        ""
      ],
      "execution_count": null,
      "outputs": []
    },
    {
      "cell_type": "markdown",
      "metadata": {
        "id": "c5GBBuApd8sR"
      },
      "source": [
        "## **학습목표**\n",
        "*   조건문 이해 및 활용\n"
      ]
    },
    {
      "cell_type": "markdown",
      "metadata": {
        "id": "lCkiC2ILeQDc"
      },
      "source": [
        "#### **조건문(if)**\n",
        "* 특정 조건을 만족하는 경우에 수행할 작업이 있는 경우 사용\n",
        "* 참,거짓 으로 표현된다.\n",
        "* if,elif,else 키워드 사용\n",
        "* 조건문의 경우,틀여쓰기로 블로블록을 만들고,여러 종속된 코드로 사용해서 중첩 코드가 가능.\n",
        "* 블럭(blook): 들여쓰기 된 코드\n",
        "* 모든 블럭의 시작과 마지막에는 :(콜론:colon)이 필요"
      ]
    },
    {
      "cell_type": "code",
      "metadata": {
        "colab": {
          "base_uri": "https://localhost:8080/"
        },
        "id": "H91xgwYGgqyS",
        "outputId": "711acad0-a42a-4dcf-8acf-136104f43657"
      },
      "source": [
        "if 10>20 : #거짓\n",
        "  print(\"참입니다\")\n",
        "print(\"거짓입니다\")"
      ],
      "execution_count": null,
      "outputs": [
        {
          "output_type": "stream",
          "text": [
            "거짓입니다\n"
          ],
          "name": "stdout"
        }
      ]
    },
    {
      "cell_type": "markdown",
      "metadata": {
        "id": "aVe_WRU-jMpu"
      },
      "source": [
        "### **if,else**\n",
        "* if가 아닌 경우,나머지 조건을 표현하고 싶을 때\n",
        "* 이 경우,if조건이 참(true)\n",
        " * 거짓(False)인 경우 else블록의 코드가 수행\n",
        "* if와else사이에는 다른 코드가 삽입 불가"
      ]
    },
    {
      "cell_type": "code",
      "metadata": {
        "colab": {
          "base_uri": "https://localhost:8080/"
        },
        "id": "QzE49Xe_kkAc",
        "outputId": "764d2a12-6bf5-4709-f0af-3c68a97c7023"
      },
      "source": [
        "#짝수인 경우 \"짝수!\"를 출력, 홀수인경우 \"홀수!\"를 출력하는 프로그램을 작성하시오\n",
        "\n",
        "a = 4\n",
        "\n",
        "if a % 2 == 0 : #나머지가 0인 경우(참)\n",
        "  print('짝수!')\n",
        "else:\n",
        "  print('홀수!')\n"
      ],
      "execution_count": null,
      "outputs": [
        {
          "output_type": "stream",
          "text": [
            "짝수!\n"
          ],
          "name": "stdout"
        }
      ]
    },
    {
      "cell_type": "markdown",
      "metadata": {
        "id": "qP1OEBbpsc7v"
      },
      "source": [
        "### **if,elif,else**\n",
        "\n",
        "* 조건이 여러개인 경우,elif으로 처리 가능\n",
        "* elif의 조건을 확인 후,tuer인 조건의 코드 블록을 실행"
      ]
    },
    {
      "cell_type": "code",
      "metadata": {
        "colab": {
          "base_uri": "https://localhost:8080/"
        },
        "id": "aiRG7QvhstUU",
        "outputId": "ef4323d1-d1c0-4df1-8c1d-6f481709dfae"
      },
      "source": [
        "soore = 100\n",
        "\n",
        "if soore == 100:\n",
        "  print(\"치킨먹는 날\")\n",
        "if soore>= 90 :\n",
        "  print(\"성적: A\")\n",
        "elif soore>=80 :\n",
        "  print(\"성적: B\")\n",
        "elif soore>=70 :\n",
        "  print(\"성적: C\")\n",
        "elif soore>=60 :\n",
        "  print(\"성적: D\")\n",
        "else :\n",
        "  print(\"성적: F\")\n",
        "print(\"수고하셧습니다.\")"
      ],
      "execution_count": null,
      "outputs": [
        {
          "output_type": "stream",
          "text": [
            "치킨먹는 날\n",
            "성적: A\n",
            "수고하셧습니다.\n"
          ],
          "name": "stdout"
        }
      ]
    },
    {
      "cell_type": "code",
      "metadata": {
        "id": "gUY7WwX5tzZs"
      },
      "source": [
        ""
      ],
      "execution_count": null,
      "outputs": []
    }
  ]
}