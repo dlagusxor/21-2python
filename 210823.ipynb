{
  "nbformat": 4,
  "nbformat_minor": 0,
  "metadata": {
    "colab": {
      "name": "Untitled0.ipynb",
      "provenance": [],
      "authorship_tag": "ABX9TyPwoQkr6Y1MM3mI6y+SCmH0",
      "include_colab_link": true
    },
    "kernelspec": {
      "name": "python3",
      "display_name": "Python 3"
    },
    "language_info": {
      "name": "python"
    }
  },
  "cells": [
    {
      "cell_type": "markdown",
      "metadata": {
        "id": "view-in-github",
        "colab_type": "text"
      },
      "source": [
        "<a href=\"https://colab.research.google.com/github/dlagusxor/21-2python/blob/main/210823.ipynb\" target=\"_parent\"><img src=\"https://colab.research.google.com/assets/colab-badge.svg\" alt=\"Open In Colab\"/></a>"
      ]
    },
    {
      "cell_type": "code",
      "metadata": {
        "id": "Or8XdGEAW3pm"
      },
      "source": [
        ""
      ],
      "execution_count": null,
      "outputs": []
    },
    {
      "cell_type": "markdown",
      "metadata": {
        "id": "63qr6AkObL5p"
      },
      "source": [
        "# **학습목표**\n",
        "\n",
        "1. pythom 언어에서 변수의 의미를 이해하기\n",
        "2. 기본 데이터 타입을 선언하기(int,float,str,bool)"
      ]
    },
    {
      "cell_type": "code",
      "metadata": {
        "id": "OQaMZqsebYAf"
      },
      "source": [
        ""
      ],
      "execution_count": null,
      "outputs": []
    },
    {
      "cell_type": "markdown",
      "metadata": {
        "id": "-3p_VFtIczRJ"
      },
      "source": [
        "### = **대입연산자**\n",
        "\n",
        "\n",
        "*   대입의 경우,오른쪽의 수식이나 값을 계산한 뒤, \n",
        "왼쪽 변수에 값을 대입\n",
        "*   변수는 해당 값으 가지게 된다\n",
        "\n",
        "\n"
      ]
    },
    {
      "cell_type": "code",
      "metadata": {
        "id": "sCjJ61AGdXLo"
      },
      "source": [
        "a = 10 #int\n",
        "b = 11.4 #float"
      ],
      "execution_count": 2,
      "outputs": []
    },
    {
      "cell_type": "code",
      "metadata": {
        "colab": {
          "base_uri": "https://localhost:8080/"
        },
        "id": "9fPF96ACdjVG",
        "outputId": "32110492-673f-4f95-f908-0995f7fc6f1c"
      },
      "source": [
        "print(a)"
      ],
      "execution_count": 4,
      "outputs": [
        {
          "output_type": "stream",
          "text": [
            "10\n"
          ],
          "name": "stdout"
        }
      ]
    },
    {
      "cell_type": "code",
      "metadata": {
        "id": "ikUJu6b3dxrO"
      },
      "source": [
        ""
      ],
      "execution_count": null,
      "outputs": []
    },
    {
      "cell_type": "markdown",
      "metadata": {
        "id": "purHcmTQesJI"
      },
      "source": [
        "## **주석(Comment)**\n",
        "* 코드에서 #으로 시작하는 뒷부분은 실행 안함\n",
        "* python이 실행할 때 #만나면 무시\n",
        "* 개발자(사람)이 보기 위한 용도로 사용"
      ]
    },
    {
      "cell_type": "code",
      "metadata": {
        "id": "d42Mq8wwfFL8"
      },
      "source": [
        "#this line is important\n",
        "#so don't delete those lines\n",
        "math = 11\n",
        "english = 57.8"
      ],
      "execution_count": 5,
      "outputs": []
    },
    {
      "cell_type": "code",
      "metadata": {
        "id": "w6luFXINgBm-"
      },
      "source": [
        ""
      ],
      "execution_count": null,
      "outputs": []
    },
    {
      "cell_type": "markdown",
      "metadata": {
        "id": "dfHlBdm3gICX"
      },
      "source": [
        "### **print 함수**\n",
        "* 함수란 특정 기능을 반복적으로 호출하여 상용가능한 코드블럭\n",
        "* 해당 변수 값이 출력\n",
        "* ,로 여러 변수를 나열하면 한줄에 출력\n",
        "*기본적으로는 한칸 띄어쓰기 후 출력"
      ]
    },
    {
      "cell_type": "code",
      "metadata": {
        "colab": {
          "base_uri": "https://localhost:8080/"
        },
        "id": "DlWUNeH6gpte",
        "outputId": "6efd53bd-f88b-4b31-9cf4-8bacca68e991"
      },
      "source": [
        "print(a,b)"
      ],
      "execution_count": 6,
      "outputs": [
        {
          "output_type": "stream",
          "text": [
            "10 11.4\n"
          ],
          "name": "stdout"
        }
      ]
    },
    {
      "cell_type": "code",
      "metadata": {
        "colab": {
          "base_uri": "https://localhost:8080/"
        },
        "id": "IALGBE0bguxW",
        "outputId": "70bd7cce-ec46-4114-fe93-19f7d622caf1"
      },
      "source": [
        "print(math, english, 20, '하영썜')"
      ],
      "execution_count": 7,
      "outputs": [
        {
          "output_type": "stream",
          "text": [
            "11 57.8 20 하영썜\n"
          ],
          "name": "stdout"
        }
      ]
    },
    {
      "cell_type": "markdown",
      "metadata": {
        "id": "tOt7CS0qho0b"
      },
      "source": [
        "####**변수가 값 확인 방법**\n",
        "1. print() 함수 사용\n",
        "2. 변수 값을 코드의 마지막에 위치 시킨 후 실행\n",
        " - 이경우 output으로 변수의 값이 출력된다.\n"
      ]
    },
    {
      "cell_type": "code",
      "metadata": {
        "colab": {
          "base_uri": "https://localhost:8080/"
        },
        "id": "WjwWgUcFhGFm",
        "outputId": "97ade9f0-eab2-4991-f34b-fb19824d8b8a"
      },
      "source": [
        "math\n",
        "english"
      ],
      "execution_count": 9,
      "outputs": [
        {
          "output_type": "execute_result",
          "data": {
            "text/plain": [
              "57.8"
            ]
          },
          "metadata": {},
          "execution_count": 9
        }
      ]
    },
    {
      "cell_type": "markdown",
      "metadata": {
        "id": "pcZoVXdBjNxE"
      },
      "source": [
        "### **변수 이름 규칙**\n",
        "* 영문 대소문자, _, 숫자로 구성 가능\n",
        " - 숫자로 시작은  안된다\n",
        "* 일반적으로 변수를 표현할 때 정확하고 간결한 이름을 사용하여 쉽게 이해하도록 설정한다\n",
        " - 예) a = 900 경우보다. hy_student_num = 900 으로 명시하는 것이 이해가 빠르다.\n"
      ]
    },
    {
      "cell_type": "code",
      "metadata": {
        "id": "4wmhe1UaiLXe"
      },
      "source": [
        "abAB = 100\n",
        "#4_num = 10 숫자로 시작하여 실행안됨\n",
        "ABab = 200\n",
        "_right = 800"
      ],
      "execution_count": 11,
      "outputs": []
    },
    {
      "cell_type": "code",
      "metadata": {
        "id": "-mPY5pF8kyn1"
      },
      "source": [
        ""
      ],
      "execution_count": null,
      "outputs": []
    },
    {
      "cell_type": "markdown",
      "metadata": {
        "id": "FVNKxSnIlK4e"
      },
      "source": [
        "### **예약어(키워드)**\n",
        "* python에서 미리 선정하여 사용중인 키워드\n",
        "* 변수, 함수, 클래스 등 사용자 정의 이름으로 사용할 수 없음"
      ]
    },
    {
      "cell_type": "code",
      "metadata": {
        "colab": {
          "base_uri": "https://localhost:8080/"
        },
        "id": "KfeQudjQlkSf",
        "outputId": "0e342a55-7adb-4782-e46b-a601c32c9a93"
      },
      "source": [
        "#for = 10 #for은 예약어로 변수 사용 불가\n",
        "_for = 100\n",
        "_for"
      ],
      "execution_count": 13,
      "outputs": [
        {
          "output_type": "execute_result",
          "data": {
            "text/plain": [
              "100"
            ]
          },
          "metadata": {},
          "execution_count": 13
        }
      ]
    },
    {
      "cell_type": "code",
      "metadata": {
        "id": "0TEZKZWYlyWD"
      },
      "source": [
        ""
      ],
      "execution_count": null,
      "outputs": []
    }
  ]
}