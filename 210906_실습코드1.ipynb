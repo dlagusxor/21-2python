{
  "nbformat": 4,
  "nbformat_minor": 0,
  "metadata": {
    "colab": {
      "name": "210906_실습코드1.ipynb",
      "provenance": [],
      "authorship_tag": "ABX9TyPxa8EEP2tM/Yqi0In6A/0Q",
      "include_colab_link": true
    },
    "kernelspec": {
      "name": "python3",
      "display_name": "Python 3"
    },
    "language_info": {
      "name": "python"
    }
  },
  "cells": [
    {
      "cell_type": "markdown",
      "metadata": {
        "id": "view-in-github",
        "colab_type": "text"
      },
      "source": [
        "<a href=\"https://colab.research.google.com/github/dlagusxor/21-2python/blob/main/210906_%EC%8B%A4%EC%8A%B5%EC%BD%94%EB%93%9C1.ipynb\" target=\"_parent\"><img src=\"https://colab.research.google.com/assets/colab-badge.svg\" alt=\"Open In Colab\"/></a>"
      ]
    },
    {
      "cell_type": "code",
      "metadata": {
        "colab": {
          "base_uri": "https://localhost:8080/"
        },
        "id": "GcXVIG9AaF5_",
        "outputId": "fa94e0b2-1900-4a47-f579-eabf8470fe4c"
      },
      "source": [
        "# 1.Hello World!를 출력하시오.\n",
        "print(\"Hello World!\")"
      ],
      "execution_count": 3,
      "outputs": [
        {
          "output_type": "stream",
          "name": "stdout",
          "text": [
            "Hello world!\n"
          ]
        }
      ]
    },
    {
      "cell_type": "code",
      "metadata": {
        "colab": {
          "base_uri": "https://localhost:8080/"
        },
        "id": "2GQiF2VjbUQZ",
        "outputId": "929f9384-85f9-411a-d884-069efe3734c2"
      },
      "source": [
        "# 2.두 정수 A와 B를 입력받은 다음,\n",
        "# A+B를 출력하는 프로그램을 작성하시오.\n",
        "a,b = input().split()\n",
        "a = int(a)\n",
        "b = int(b)\n",
        "print(a+b)"
      ],
      "execution_count": 6,
      "outputs": [
        {
          "output_type": "stream",
          "name": "stdout",
          "text": [
            "1 2\n",
            "3\n"
          ]
        }
      ]
    },
    {
      "cell_type": "code",
      "metadata": {
        "colab": {
          "base_uri": "https://localhost:8080/"
        },
        "id": "jvJsWrAbaY8X",
        "outputId": "b29a6453-ecf5-4f6f-e77b-5e70d7a8580d"
      },
      "source": [
        "# 3.두 자연수 A와 B가 주어진다. \n",
        "# 이때, A+B, A-B, A*B, A/B(몫), A%B(나머지)를 출력하는 프로그램을 작성하시오. \n",
        "a,b = input().split()\n",
        "a = int(a)\n",
        "b = int(b)\n",
        "print(a+b)\n",
        "print(a-b)\n",
        "print(a*b)\n",
        "print(a//b)\n",
        "print(a%b)"
      ],
      "execution_count": 14,
      "outputs": [
        {
          "output_type": "stream",
          "name": "stdout",
          "text": [
            "7 3\n",
            "10\n",
            "4\n",
            "21\n",
            "2\n",
            "1\n"
          ]
        }
      ]
    },
    {
      "cell_type": "code",
      "metadata": {
        "colab": {
          "base_uri": "https://localhost:8080/"
        },
        "id": "PHVSpdxtdiBt",
        "outputId": "37b95043-5593-4158-a2f5-3a8f1f0090f9"
      },
      "source": [
        "# 4.시험 점수를 입력받아 **if은**\n",
        "# 90 ~ 100점은 A, 80 ~ 89점은 B, \n",
        "# 70 ~ 79점은 C, 60 ~ 69점은 D, \n",
        "# 나머지 점수는 F를 출력하는 프로그램을 작성하시오.\n",
        "\n",
        "score = int(input())\n",
        "\n",
        "if score>=90 :\n",
        "  print(\"A\")\n",
        "elif score>=80 :\n",
        "  print(\"B\")\n",
        "elif score>=70 :\n",
        "  print(\"C\")\n",
        "elif score>=60 :\n",
        "  print(\"D\")\n",
        "else:\n",
        "  print(\"F\")\n"
      ],
      "execution_count": 19,
      "outputs": [
        {
          "output_type": "stream",
          "name": "stdout",
          "text": [
            "80\n",
            "B\n"
          ]
        }
      ]
    },
    {
      "cell_type": "code",
      "metadata": {
        "colab": {
          "base_uri": "https://localhost:8080/"
        },
        "id": "ugWwbTr4nfRs",
        "outputId": "644ab0b4-e859-4017-debd-47038f744518"
      },
      "source": [
        "# 5. (BOJ 1330) **if**\n",
        "# 두 정수 A와 B가 주어졌을 때,\n",
        "# A와 B를 비교하는 프로그램을 작성하시오.\n",
        "a,b = input().split()\n",
        "a = int(a)\n",
        "b = int(b)\n",
        "\n",
        "if a>b :\n",
        "  print(\">\")\n",
        "elif a<b :\n",
        "  print(\"<\")\n",
        "elif a==b :\n",
        "  print(\"==\")\n",
        "else : \n",
        "  print()\n",
        "\n"
      ],
      "execution_count": 51,
      "outputs": [
        {
          "output_type": "stream",
          "name": "stdout",
          "text": [
            "2 2\n",
            "==\n"
          ]
        }
      ]
    },
    {
      "cell_type": "code",
      "metadata": {
        "id": "1YKGHziTrAor"
      },
      "source": [
        ""
      ],
      "execution_count": 21,
      "outputs": []
    }
  ]
}